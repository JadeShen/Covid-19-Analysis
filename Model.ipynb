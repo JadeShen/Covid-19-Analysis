{
 "cells": [
  {
   "cell_type": "code",
   "execution_count": null,
   "metadata": {},
   "outputs": [],
   "source": [
    "import numpy as np\n",
    "import pandas as pd\n",
    "import seaborn as sns\n",
    "import matplotlib.pyplot as plt\n"
   ]
  },
  {
   "cell_type": "code",
   "execution_count": null,
   "metadata": {},
   "outputs": [],
   "source": [
    "df_train = pd.read_csv(\"train2.txt\",sep=\",\")\n",
    "df_test = pd.read_csv(\"test2.txt\",sep=\",\")"
   ]
  },
  {
   "cell_type": "code",
   "execution_count": null,
   "metadata": {},
   "outputs": [],
   "source": [
    "df_train"
   ]
  },
  {
   "cell_type": "code",
   "execution_count": null,
   "metadata": {},
   "outputs": [],
   "source": [
    "df_test"
   ]
  },
  {
   "cell_type": "code",
   "execution_count": null,
   "metadata": {},
   "outputs": [],
   "source": [
    "# df_train.info()\n",
    "df_train['age'].unique() #there are 2 nan value; 50-59, 60-69,40-49,20-29,70-79,30-39,60-60,80-89,0-10,0-6\n",
    "# df_train['sex'].unique()# there 5 different sex \n",
    "# df_train['city'].unique() # doesn't exist nan\n",
    "# df_train['province'].unique() # doesn't exist nan\n",
    "# df_train['country'].unique() # doesn't exist nan\n",
    "# df_train['symptoms'].unique()\n",
    "# df_train['duration'].unique() # int64\n"
   ]
  },
  {
   "cell_type": "code",
   "execution_count": null,
   "metadata": {},
   "outputs": [],
   "source": [
    "# df_test.info()\n",
    "df_test['age'].unique() #there are 4 nan value; 30-39，50-59，60-69，40-49，40-49，80-89，0-10\n",
    "# df_test['sex'].unique()# there 5 different sex \n",
    "# df_test['city'].unique() # doesn't exist nan\n",
    "# df_test['province'].unique() # doesn't exist nan\n",
    "# df_test['country'].unique() # doesn't exist nan\n",
    "# df_test['symptoms'].unique()\n",
    "# df_test['duration'].unique() # int64\n"
   ]
  },
  {
   "cell_type": "code",
   "execution_count": null,
   "metadata": {},
   "outputs": [],
   "source": [
    "#check_train_nan=df_train['age'].isnull().sum()\n",
    "#print(check_train_nan)\n",
    "#check_test_nan=df_test['age'].isnull().sum()\n",
    "#print(check_test_nan)\n",
    "\n",
    "df_train['age'].unique()"
   ]
  },
  {
   "cell_type": "code",
   "execution_count": null,
   "metadata": {},
   "outputs": [],
   "source": [
    "df_test['age'].unique()"
   ]
  },
  {
   "cell_type": "code",
   "execution_count": null,
   "metadata": {},
   "outputs": [],
   "source": [
    "## replace all age range to integer number\n",
    "df_train['age']=df_train['age'].replace(['60-60'],'60')\n",
    "df_train['age'].unique()"
   ]
  },
  {
   "cell_type": "code",
   "execution_count": null,
   "metadata": {},
   "outputs": [],
   "source": [
    "import pandas as pd\n",
    "from collections import defaultdict\n",
    "import numpy as np\n",
    "import math\n",
    "from sklearn.ensemble import RandomForestRegressor\n",
    "from sklearn.datasets import make_regression\n",
    "from sklearn.model_selection import train_test_split\n",
    "from sklearn import preprocessing\n",
    "from sklearn.metrics import mean_squared_error\n",
    "from sklearn.model_selection import train_test_split\n",
    "from sklearn.ensemble import AdaBoostRegressor\n",
    "from sklearn.datasets import make_regression\n",
    "from sklearn.neural_network import MLPRegressor\n",
    "from sklearn import svm\n",
    "from sklearn.preprocessing import StandardScaler\n",
    "from sklearn.datasets import make_friedman2\n",
    "from sklearn.gaussian_process import GaussianProcessRegressor\n",
    "from sklearn.gaussian_process.kernels import DotProduct, WhiteKernel, RBF\n",
    "from sklearn.linear_model import BayesianRidge, LinearRegression\n"
   ]
  },
  {
   "cell_type": "code",
   "execution_count": null,
   "metadata": {},
   "outputs": [],
   "source": [
    "def cal_time(x):\n",
    "    return (x - pd.Timestamp('2020-01-01'))\n",
    "\n",
    "def cal_average(agerange):\n",
    "    \n",
    "    if type(agerange) is str and '-' in agerange: \n",
    "        age = agerange.split('-')\n",
    "        return (int(age[0])+int(age[1]))/2\n",
    "    else:\n",
    "        if type(agerange) == float and math.isnan(agerange):\n",
    "            return 50\n",
    "        return agerange\n",
    "\n",
    "def label_helper(series):\n",
    "    dic = {}\n",
    "    counter = 0\n",
    "    for s in series:\n",
    "        if s in dic.keys():\n",
    "            continue\n",
    "        else:\n",
    "            dic[s] = str(counter)\n",
    "            counter += 1\n",
    "    return dic\n",
    "\n",
    "def convert_label(df, headers):\n",
    "    for i in range(len(headers)):\n",
    "        h = headers[i]\n",
    "        df[h] = df[h].apply(label_helper(df[h]).get)\n"
   ]
  },
  {
   "cell_type": "code",
   "execution_count": null,
   "metadata": {},
   "outputs": [],
   "source": [
    "train = pd.read_csv('train_clean_dataset.csv')\n",
    "test = pd.read_csv('test_clean_dataset.csv')\n",
    "\n",
    "train['confirmed'] = pd.to_datetime(train['confirmed'], format='%d.%m.%Y')\n",
    "train['confirmed'] = train['confirmed'].apply(cal_time).dt.days\n",
    "\n",
    "test['confirmed'] = pd.to_datetime(test['confirmed'], format='%d.%m.%Y')\n",
    "test['confirmed'] = test['confirmed'].apply(cal_time).dt.days\n"
   ]
  },
  {
   "cell_type": "code",
   "execution_count": null,
   "metadata": {},
   "outputs": [],
   "source": [
    "label_transform('sex')\n",
    "label_transform('city')\n",
    "label_transform('province')\n",
    "label_transform('country')\n",
    "label_transform('V1')\n",
    "train['confirmed'] = train['confirmed'].apply(cal_average)\n",
    "test['confirmed'] = test['confirmed'].apply(cal_average)"
   ]
  },
  {
   "cell_type": "code",
   "execution_count": null,
   "metadata": {},
   "outputs": [],
   "source": [
    "X_train, X_test, y_train, y_test = train_test_split(train.loc[:, (train.columns != 'duration') \n",
    "                                                              & (train.columns != 'Id') \n",
    "                                                            ], train['duration'], \n",
    "                                                    test_size=0.005, random_state=200)\n",
    "test_train = test.loc[:,  (test.columns != 'Id')]\n",
    "\n"
   ]
  },
  {
   "cell_type": "code",
   "execution_count": null,
   "metadata": {},
   "outputs": [],
   "source": [
    "kernel = DotProduct() +1 * RBF(1.0)\n",
    "gpr = GaussianProcessRegressor(kernel=kernel,random_state=0).fit(X_train, y_train)\n",
    "print('gpr score: '+ str(gpr.score(X_train, y_train)))\n",
    "predict_result_gussian = gpr.predict(X_test, return_std=True)\n",
    "\n",
    "\n",
    "regr = svm.SVR(kernel='linear').fit(X_train, y_train)\n",
    "predict_result = regr.predict(X_test)\n",
    "mse = (mean_squared_error(list(predict_result_gussian[0]), y_test))**(1/2)"
   ]
  },
  {
   "cell_type": "code",
   "execution_count": null,
   "metadata": {},
   "outputs": [],
   "source": [
    "predict_result_gussian = gpr.predict(test_train, return_std=True)\n",
    "result_df = pd.DataFrame(columns=['Id', 'duration'])\n",
    "result_df['Id'] = test['Id']+1\n",
    "result_df['duration'] = predict_result_gussian[0]\n",
    "result_df.to_csv('result_guassian.csv',index=False)"
   ]
  }
 ],
 "metadata": {
  "kernelspec": {
   "display_name": "Python 3",
   "language": "python",
   "name": "python3"
  },
  "language_info": {
   "codemirror_mode": {
    "name": "ipython",
    "version": 3
   },
   "file_extension": ".py",
   "mimetype": "text/x-python",
   "name": "python",
   "nbconvert_exporter": "python",
   "pygments_lexer": "ipython3",
   "version": "3.7.7"
  }
 },
 "nbformat": 4,
 "nbformat_minor": 4
}
