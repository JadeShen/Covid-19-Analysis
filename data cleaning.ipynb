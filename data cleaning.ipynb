{
 "cells": [
  {
   "cell_type": "code",
   "execution_count": 1,
   "metadata": {},
   "outputs": [],
   "source": [
    "import pandas as pd\n",
    "from collections import defaultdict\n",
    "import numpy as np\n",
    "import math\n",
    "from sklearn.ensemble import RandomForestRegressor\n",
    "from sklearn.datasets import make_regression\n",
    "from sklearn.model_selection import train_test_split\n",
    "from sklearn import preprocessing\n",
    "from sklearn.metrics import mean_squared_error\n",
    "from sklearn.model_selection import train_test_split\n",
    "from sklearn.ensemble import AdaBoostRegressor\n",
    "from sklearn.datasets import make_regression\n",
    "\n",
    "train = pd.read_csv('train2.txt',  sep=',')\n",
    "test = pd.read_csv('test2.txt', sep=',')"
   ]
  },
  {
   "cell_type": "code",
   "execution_count": 2,
   "metadata": {},
   "outputs": [],
   "source": [
    "def cal_average(agerange):\n",
    "    \n",
    "    if type(agerange) is str and '-' in agerange: \n",
    "        age = agerange.split('-')\n",
    "        return (int(age[0])+int(age[1]))/2\n",
    "    else:\n",
    "        return agerange\n",
    "    \n",
    "def clean_age(df):\n",
    "    df['age'].fillna(value= '1000',inplace=True)\n",
    "    df['age'] = df['age'].apply(cal_average)\n",
    "    temp_idx = df.loc[:,'age']=='1000'\n",
    "    df.loc[temp_idx,'age'] = df.loc[temp_idx,'age'] = round(df.loc[~temp_idx,\"age\"].astype(float).mean(),0)"
   ]
  },
  {
   "cell_type": "code",
   "execution_count": 3,
   "metadata": {},
   "outputs": [],
   "source": [
    "clean_age(train)\n",
    "clean_age(test)"
   ]
  },
  {
   "cell_type": "code",
   "execution_count": 4,
   "metadata": {},
   "outputs": [],
   "source": [
    "sympts = {}\n",
    "high_fever = ['fever (38-39 ° c)', 'fever (38-39 ℃)','fever (39.5 ℃)','fever 38.3','high fever']\n",
    "low_fever = ['low fever (37.2 ° c)','fever (37 ℃)','low fever 37.0 ℃','low fever (37.4 ℃)','fever 37.7℃','fever']\n",
    "breath = ['severe dyspnea','dyspnea','difficulty breathing', 'anhelation', 'shortness of breath','shortness breath']\n",
    "chest = ['chest tightness', 'chest distress','pleuritic chest pain','pleural effusion','chest pain']\n",
    "throat = ['dry mouth','dry throat','throat discomfort', 'Sore throat','sore throat','acute pharyngitis','pharyngeal discomfort','Pharyngeal dryness','pharynx','pharyngeal discomfort','pharyngeal dryness']\n",
    "diarrhea = ['abdominal pain', 'diarrheoa', 'diarrhea', 'diarrhea','diarrhoea']\n",
    "cold = [ 'chills', 'cold', 'sneezing','sneeze']\n",
    "nose = ['nasal congestion','runny nose','rhinorrhoea','rhinorrhea']\n",
    "pneumonia = ['pneumonitis', 'pneumonia', 'severe pneumonia']\n",
    "sputum = ['expectoration', 'sputum']\n",
    "muscle = ['sore body','muscular soreness', 'muscle ache', 'myalgia','soreness', 'sore body','muscular stiffness','joint pain','soreness']\n",
    "cough= ['cough','dry cough','coughing']\n",
    "discomfort = ['other symptoms','malaise','discomfort' ,' malaise','feeling ill', 'anorexia','general malaise' ,'fatigue','physical discomfort']\n",
    "weak = ['systemic weakness','poor physical condition', 'weakness', 'weak']\n",
    "vomit = ['vomiting','nausea']\n",
    "flu = ['flu-like symptoms','dizziness','headache','respiratory symptoms', 'toothache','conjunctivitis']\n"
   ]
  },
  {
   "cell_type": "code",
   "execution_count": 5,
   "metadata": {},
   "outputs": [],
   "source": [
    "sympts['high_fever'] = high_fever\n",
    "sympts['low_fever'] = low_fever\n",
    "sympts['breath'] = breath\n",
    "sympts['chest'] = chest\n",
    "sympts['throat'] = throat\n",
    "sympts['diarrhea'] = diarrhea\n",
    "sympts['cold'] = cold\n",
    "sympts['nose'] = nose\n",
    "sympts['pneumonia'] = pneumonia\n",
    "sympts['sputum'] = sputum\n",
    "sympts['muscle'] = muscle\n",
    "sympts['cough'] = cough\n",
    "sympts['discomfort'] = discomfort\n",
    "sympts['weak'] = weak\n",
    "sympts['vomit'] = vomit\n",
    "sympts['flu'] = flu"
   ]
  },
  {
   "cell_type": "code",
   "execution_count": 6,
   "metadata": {},
   "outputs": [],
   "source": [
    "def clean_symp(df):\n",
    "    df['symptoms'].fillna(value= 'no symptom',inplace=True)\n",
    "    for key in sympts.keys():\n",
    "        df[key] = 0\n",
    "    df['no symptom'] = 0\n",
    "    temp_idx = df.loc[:,'symptoms']=='no symptom'\n",
    "    df.loc[temp_idx,'no symptom'] = 1\n",
    "    \n",
    "    for index, row in df.iterrows():\n",
    "        symptoms = row['symptoms'].split('; ')\n",
    "        for s in symptoms:\n",
    "            for key in sympts.keys():\n",
    "                if s in sympts[key]:\n",
    "                    df.loc[index,key] = 1\n",
    "\n",
    "    df = df.drop(columns=['symptoms'])\n",
    "    return df\n",
    "\n",
    "train = clean_symp(train).drop(columns=['outcome'])\n",
    "test = clean_symp(test).drop(columns=['Id'])\n"
   ]
  },
  {
   "cell_type": "code",
   "execution_count": 7,
   "metadata": {},
   "outputs": [],
   "source": [
    "train.to_csv('train_clean_dataset.csv')\n",
    "test.to_csv('test_clean_dataset.csv')"
   ]
  },
  {
   "cell_type": "code",
   "execution_count": null,
   "metadata": {},
   "outputs": [],
   "source": []
  }
 ],
 "metadata": {
  "kernelspec": {
   "display_name": "Python 3",
   "language": "python",
   "name": "python3"
  },
  "language_info": {
   "codemirror_mode": {
    "name": "ipython",
    "version": 3
   },
   "file_extension": ".py",
   "mimetype": "text/x-python",
   "name": "python",
   "nbconvert_exporter": "python",
   "pygments_lexer": "ipython3",
   "version": "3.7.7"
  }
 },
 "nbformat": 4,
 "nbformat_minor": 4
}
